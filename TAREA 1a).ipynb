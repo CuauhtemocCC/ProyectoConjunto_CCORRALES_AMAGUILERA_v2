{
 "cells": [
  {
   "cell_type": "markdown",
   "metadata": {},
   "source": [
    "<img style=\"float: left; margin: 30px 15px 15px 15px;\" src=\"https://pngimage.net/wp-content/uploads/2018/06/logo-iteso-png-5.png\" width=\"300\" height=\"500\" /> \n",
    "    \n",
    "    \n",
    "### <font color='navy'> Simulación de procesos financieros. \n",
    "\n",
    "**Nombres:** Ana María Aguilera Gómez y Cuauhtémoc Corrales Camacho.\n",
    "\n",
    "**Fecha:** 31 de agosto del 2021.\n",
    "\n",
    "**Expediente** : 720567 y 720482.\n",
    "**Profesor:** Oscar David Jaramillo Zuluaga.\n",
    "    \n",
    "**Link Github**: https://github.com/anamaria1404/ProyectoConjunto_CCORRALES_AMAGUILERA_v2\n",
    "\n",
    "# Tarea 1: Clase Simulación Procesos Financieros"
   ]
  },
  {
   "cell_type": "markdown",
   "metadata": {},
   "source": [
    "## Parte 1: Expectativas del curso"
   ]
  },
  {
   "cell_type": "markdown",
   "metadata": {},
   "source": [
    "**Cuauhtémoc:**"
   ]
  },
  {
   "cell_type": "markdown",
   "metadata": {},
   "source": [
    "Hola!!! , mis expectivas de la materia no son muy claras ya que no entiendo satisfactoriamente lo que es el mundo de la programación. Es un área de estudio y trabajo impresionante que ha ayudado al desarrollo de la humanidad. Al saber de este hecho, me da una gran curiosidad saber más sobre este tema. No espero ser un experto programador pero si absorber los conocimientos suficientes para emprender mi empresa por el camino de la programación y simulación."
   ]
  },
  {
   "cell_type": "markdown",
   "metadata": {},
   "source": [
    "**Ana María:**\n",
    "\n",
    "Hola, mi nombre es Ana María Aguilera Gómez. Mis expectativas de la materia son, en primera estancia, lograr aprender lo más posible relacionado con las simulaciones de procesos financieros, así como comprender de mejor manera el panorama de la programación que, aunque es muy interesante, es también muy difícil de aprender en mi opinión y requiere de mucha práctica al menos para mi modo personal de aprendizaje. Por último, espero que todo lo que aprenda en este curso me pueda ayudar en mi futuro, sobre todo en el ámbito laboral."
   ]
  },
  {
   "cell_type": "markdown",
   "metadata": {},
   "source": [
    "## Parte 2: Imitación de figuras"
   ]
  },
  {
   "cell_type": "markdown",
   "metadata": {},
   "source": [
    "### **Figura 1**"
   ]
  },
  {
   "cell_type": "markdown",
   "metadata": {},
   "source": [
    "| i |   x  |  f(x)  |\n",
    "|:-:|:----:|:------:|\n",
    "| 0 |  -1  | 0.3678 |\n",
    "| <font color=red>1</font> | <font color=red>-0.5</font> | <font color=red>0.7788</font> |\n",
    "| <font color=blue>2</font> |   <font color=blue>0</font>  |    <font color=blue>1</font>   |\n",
    "| <font color=red>3</font> |  <font color=red>0.5</font> | <font color=red>0.7788</font> |\n",
    "| 4 |   1  | 0.3678 |"
   ]
  },
  {
   "cell_type": "markdown",
   "metadata": {},
   "source": [
    "Cuadro 1: Tabla de valores de f(x).\n",
    "\n"
   ]
  },
  {
   "cell_type": "markdown",
   "metadata": {},
   "source": [
    "\\begin{equation} \\label{eq1}\n",
    "\\begin{split}\n",
    "\\int_{-1}^{1} e^{-x^2} dx & \\approx \\frac{0,5}{3} [f(-1)+f(1)+4(f(-0,5)+f(0.5))+2f(0)]\\\\\n",
    " & \\approx \\frac{0,5}{3} [f(0.3678)+f(0.3678)+4(f(0.7788)+f(0.7788)+2*1] \\approx 1,4936\n",
    "\\end{split}\n",
    "\\end{equation}"
   ]
  },
  {
   "cell_type": "markdown",
   "metadata": {},
   "source": [
    "A modo de verificación, se calculara por software, el valor para n=100, un valor mucho mas elevado al que se utilizo anteriormente. Si lo calculado previamente es corrrecto, se esperaria que sea proximado al valor presentado a continuación para que fuera una buena aproximación."
   ]
  },
  {
   "cell_type": "markdown",
   "metadata": {},
   "source": [
    "$$\n",
    "\\int_{-1}^{1} e^{-x^2} dx \\approx 1,4936\n",
    "$$"
   ]
  },
  {
   "cell_type": "markdown",
   "metadata": {},
   "source": [
    "### **Figura 2**"
   ]
  },
  {
   "cell_type": "markdown",
   "metadata": {},
   "source": [
    "| i               | 1   | 2   | 3   | 4   | 5 | 6 | 7  |\n",
    "|:--------------  |:---:|:---:|:---:|:---:|:-:|:-:|---:|\n",
    "| $$E_i(V)$$      | 12  | 10  | 24  | 12  | - | - | -  |\n",
    "| $$r_i(\\Omega)$$ | 0.1 | 0.5 | 0.2 | 0.5 | - | - | -  |\n",
    "| $$R_i(\\Omega)$$ | 25  | 40  | 16  | 20  | 9 | 4 | 20 |"
   ]
  },
  {
   "cell_type": "markdown",
   "metadata": {},
   "source": [
    "<font color= blue > Kemna y Vorst (1990) </font> muestran que las opciones asiáticas con media geométrica continua se pueden valuar con el mismo enfoque de las opciones *plain vanilla*; solo se deben cambiar los parámetros de volatilidad $\\sigma$ por $\\sigma_a$, y el costo de acarreo $b$ por $b_A$.\n",
    "\n",
    "  De acuerdo con Kemna y Vorst, las fórmulas para valuar una opción de compra y una opción de venta son:"
   ]
  },
  {
   "cell_type": "markdown",
   "metadata": {},
   "source": [
    "$c\\approx S_te^{(b_A-r)(T-t)}\\phi(d_1)-Ke^{-r(T-t)}\\phi(d_2)$,\n",
    "\n",
    "$p\\approx Ke^{-r(T-t)}\\phi(-d_2)-S_te^{(b_A-r)(T-t)}\\phi(-d_1).$\n",
    "\n",
    "con $d_1$ y $d_2$ dados por:\n",
    "\n",
    "### $d_1=\\frac{\\ln{(S_t/K)}+(b_A+1/2\\sigma^2_a)(T-t)}{\\sigma\\sqrt{T-t}},$\n",
    "\n",
    "$d_2=d_1-\\sigma_a\\sqrt{T-t}.$\n",
    "\n",
    "La función $\\phi(d)$ es la función de distribución acumulada de $E$~$N(0,1).$ La volatilidad ajustada es igual a:\n",
    "\n",
    "### $\\sigma_a=\\frac{\\sigma}{\\sqrt{3}},$\n",
    "\n",
    "mientras que el costo de acarreo ajustado es:\n",
    "\n",
    "$b_A=\\frac{1}{2}(v-\\frac{\\sigma^2}{6}).$"
   ]
  },
  {
   "cell_type": "markdown",
   "metadata": {},
   "source": [
    "## Parte 3: Programas"
   ]
  },
  {
   "cell_type": "code",
   "execution_count": null,
   "metadata": {},
   "outputs": [],
   "source": []
  },
  {
   "cell_type": "code",
   "execution_count": null,
   "metadata": {},
   "outputs": [],
   "source": []
  },
  {
   "cell_type": "code",
   "execution_count": null,
   "metadata": {},
   "outputs": [],
   "source": []
  }
 ],
 "metadata": {
  "kernelspec": {
   "display_name": "Python 3",
   "language": "python",
   "name": "python3"
  },
  "language_info": {
   "codemirror_mode": {
    "name": "ipython",
    "version": 3
   },
   "file_extension": ".py",
   "mimetype": "text/x-python",
   "name": "python",
   "nbconvert_exporter": "python",
   "pygments_lexer": "ipython3",
   "version": "3.8.5"
  }
 },
 "nbformat": 4,
 "nbformat_minor": 4
}
